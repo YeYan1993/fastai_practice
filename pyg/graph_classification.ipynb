{
 "cells": [
  {
   "cell_type": "markdown",
   "metadata": {},
   "source": [
    "# 如何将pyg和fastai结合起来呢？"
   ]
  },
  {
   "cell_type": "markdown",
   "metadata": {},
   "source": [
    "### 引入库区"
   ]
  },
  {
   "cell_type": "code",
   "execution_count": 69,
   "metadata": {},
   "outputs": [],
   "source": [
    "from fastai import *\n",
    "from fastai.basic_data import *\n",
    "from fastai.torch_core import *\n",
    "from fastai.data_block import *\n",
    "from fastai.data_block import PreProcessors\n",
    "import torch_geometric\n",
    "import torch\n",
    "from fastai.basic_train import *\n",
    "\n",
    "import torch.nn.functional as F\n",
    "from torch.nn import Linear\n",
    "from torch_geometric.nn import GCNConv, global_mean_pool, JumpingKnowledge\n",
    "from torch_geometric.datasets import TUDataset"
   ]
  },
  {
   "cell_type": "markdown",
   "metadata": {},
   "source": [
    "### 自己写的函数区"
   ]
  },
  {
   "cell_type": "code",
   "execution_count": 70,
   "metadata": {},
   "outputs": [],
   "source": [
    "# 定义自己的网络模型\n",
    "class GCN(torch.nn.Module):\n",
    "    def __init__(self, dataset, num_layers, hidden):\n",
    "        super(GCN, self).__init__()\n",
    "        self.conv1 = GCNConv(dataset.num_features, hidden)\n",
    "        self.convs = torch.nn.ModuleList()\n",
    "        for i in range(num_layers - 1):\n",
    "            self.convs.append(GCNConv(hidden, hidden))\n",
    "        self.lin1 = Linear(hidden, hidden)\n",
    "        self.lin2 = Linear(hidden, dataset.num_classes)\n",
    "\n",
    "    def reset_parameters(self):\n",
    "        self.conv1.reset_parameters()\n",
    "        for conv in self.convs:\n",
    "            conv.reset_parameters()\n",
    "        self.lin1.reset_parameters()\n",
    "        self.lin2.reset_parameters()\n",
    "\n",
    "    def forward(self, data):\n",
    "        x, edge_index, batch = data.x, data.edge_index, data.batch\n",
    "        x = F.relu(self.conv1(x, edge_index))\n",
    "        for conv in self.convs:\n",
    "            x = F.relu(conv(x, edge_index))\n",
    "        x = global_mean_pool(x, batch)\n",
    "        x = F.relu(self.lin1(x))\n",
    "        x = F.dropout(x, p=0.5, training=self.training)\n",
    "        x = self.lin2(x)\n",
    "        return F.log_softmax(x, dim=-1)"
   ]
  },
  {
   "cell_type": "markdown",
   "metadata": {},
   "source": [
    "### 试验区"
   ]
  },
  {
   "cell_type": "markdown",
   "metadata": {},
   "source": [
    "数据下载"
   ]
  },
  {
   "cell_type": "code",
   "execution_count": 7,
   "metadata": {},
   "outputs": [
    {
     "name": "stdout",
     "output_type": "stream",
     "text": [
      "Downloading https://ls11-www.cs.tu-dortmund.de/people/morris/graphkerneldatasets/MUTAG.zip\n",
      "Extracting ./MUTAG.zip\n",
      "Processing...\n",
      "Done!\n"
     ]
    }
   ],
   "source": [
    "dataset = TUDataset('./', 'MUTAG')"
   ]
  },
  {
   "cell_type": "code",
   "execution_count": 8,
   "metadata": {},
   "outputs": [
    {
     "data": {
      "text/plain": [
       "MUTAG(188)"
      ]
     },
     "execution_count": 8,
     "metadata": {},
     "output_type": "execute_result"
    }
   ],
   "source": [
    "dataset"
   ]
  },
  {
   "cell_type": "code",
   "execution_count": 9,
   "metadata": {},
   "outputs": [
    {
     "data": {
      "text/plain": [
       "Data(edge_attr=[38, 4], edge_index=[2, 38], x=[17, 7], y=[1])"
      ]
     },
     "execution_count": 9,
     "metadata": {},
     "output_type": "execute_result"
    }
   ],
   "source": [
    "dataset[0]"
   ]
  },
  {
   "cell_type": "code",
   "execution_count": 110,
   "metadata": {},
   "outputs": [],
   "source": [
    "\"\"\"\n",
    "@Time    :2019/12/22 11:44\n",
    "@Author  : 梁家熙\n",
    "@Email:  :11849322@mail.sustech.edu.cn\n",
    "\"\"\"\n",
    "import json\n",
    "import networkx as nx\n",
    "from fastai.data_block import PreProcessors\n",
    "from fastai.vision import Image, open_image\n",
    "from torch_geometric.data import Data\n",
    "from tqdm import tqdm\n",
    "import random\n",
    "from pprint import pprint\n",
    "import os\n",
    "import collections\n",
    "from typing import List, Dict, Tuple\n",
    "import logging\n",
    "from fastai import *\n",
    "from fastai.basic_data import *\n",
    "from fastai.torch_core import *\n",
    "from fastai.data_block import *\n",
    "import torch_geometric\n",
    "logger = logging.getLogger(__name__)\n",
    "logging.basicConfig(level=logging.INFO, format='%(asctime)s - %(name)s - %(levelname)s - %(message)s')\n",
    "import torch\n",
    "import matplotlib.image as mpimg # mpimg 用于读取图片\n",
    "\n",
    "\n",
    "class MyBatch(torch_geometric.data.Batch):\n",
    "    def to(self, device, **kwargs):\n",
    "        t = self.apply(lambda x: x.to(device))\n",
    "        return t\n",
    "\n",
    "\n",
    "class GraphDataBunch(DataBunch):\n",
    "    @classmethod\n",
    "    def create(cls, train_ds:Dataset, valid_ds:Dataset, test_ds:Optional[Dataset]=None, path:PathOrStr='.', bs:int=64,\n",
    "               val_bs:int=None, num_workers:int=defaults.cpus, dl_tfms:Optional[Collection[Callable]]=None,\n",
    "               device:torch.device=None, collate_fn:Callable=data_collate, no_check:bool=False, **dl_kwargs) ->'DataBunch':\n",
    "        \"Create a `DataBunch` from `train_ds`, `valid_ds` and maybe `test_ds` with a batch size of `bs`. Passes `**dl_kwargs` to `DataLoader()`\"\n",
    "        datasets = cls._init_ds(train_ds, valid_ds, test_ds)\n",
    "        val_bs = ifnone(val_bs, bs)\n",
    "        dls = [torch_geometric.data.DataLoader(d, b, shuffle=s) for d,b,s in\n",
    "               zip(datasets, (bs,val_bs,val_bs,val_bs), (True,False,False,False)) if d is not None]\n",
    "        return cls(*dls, path=path, device=device, dl_tfms=dl_tfms, collate_fn=collate_fn, no_check=no_check)\n",
    "\n",
    "    # def one_batch(self, ds_type:DatasetType=DatasetType.Train, detach:bool=True, denorm:bool=True, cpu:bool=True)->Collection[Tensor]:\n",
    "    #     \"Get one batch from the data loader of `ds_type`. Optionally `detach` and `denorm`.\"\n",
    "    #     x, y = zip(*self.train_ds[:64])\n",
    "    #\n",
    "    #     if detach: x,y = to_detach(x,cpu=cpu),to_detach(y,cpu=cpu)\n",
    "    #     norm = getattr(self,'norm',False)\n",
    "    #     if denorm and norm:\n",
    "    #         x = self.denorm(x)\n",
    "    #         if norm.keywords.get('do_y',False): y = self.denorm(y, do_x=True)\n",
    "    #     return x,y\n",
    "\n",
    "    def show_batch(self, rows:int=5, ds_type:DatasetType=DatasetType.Train, reverse:bool=False, **kwargs)->None:\n",
    "        \"Show a batch of data in `ds_type` on a few `rows`.\"\n",
    "        x,y = self.one_batch(ds_type, True, True)\n",
    "\n",
    "        if reverse: x,y = x.flip(0),y.flip(0)\n",
    "        n_items = rows **2 if self.train_ds.x._square_show else rows\n",
    "        if self.dl(ds_type).batch_size < n_items: n_items = self.dl(ds_type).batch_size\n",
    "        x = x.to_data_list()\n",
    "\n",
    "        xs = [self.train_ds.x.reconstruct(x[i]) for i in range(n_items)]\n",
    "        #TODO: get rid of has_arg if possible\n",
    "        if has_arg(self.train_ds.y.reconstruct, 'x'):\n",
    "            ys = [self.train_ds.y.reconstruct(grab_idx(y, i), x=x) for i,x in enumerate(xs)]\n",
    "        else : ys = [self.train_ds.y.reconstruct(y[i].data) for i in range(n_items)]\n",
    "        self.train_ds.x.show_xys(xs, ys, **kwargs)\n",
    "\n",
    "class GraphList(ItemList):\n",
    "    _bunch = GraphDataBunch\n",
    "    def __init__(self, items: Iterator, path: PathOrStr = '.', label_cls: Callable = None, inner_df: Any = None,\n",
    "                 processor: PreProcessors = None, x: 'ItemList' = None, ignore_empty: bool = False):\n",
    "        self.path = Path(path)\n",
    "        self.num_parts = len(self.path.parts)\n",
    "        self.items, self.x, self.ignore_empty = items, x, ignore_empty\n",
    "        # if not isinstance(self.items, np.ndarray): self.items = array(self.items, dtype=object)\n",
    "        self.label_cls, self.inner_df, self.processor = ifnone(label_cls, self._label_cls), inner_df, processor\n",
    "        self._label_list, self._split = LabelList, ItemLists\n",
    "        self.copy_new = ['x', 'label_cls', 'path']\n",
    "        # self.items = array([(w) for w in self.items])\n",
    "\n",
    "    def split_none(self):\n",
    "        return self._split(self.path, self, ItemList([], ignore_empty=True))\n",
    "\n",
    "    def reconstruct(self, t:Tensor, x:Tensor=None):\n",
    "        edges = list([(a.item(), b.item()) for a, b in zip(t.edge_index[0], t.edge_index[1])])\n",
    "        G = nx.DiGraph()\n",
    "        G.add_edges_from(\n",
    "            edges)\n",
    "        G = G.to_undirected()\n",
    "        pos = nx.spring_layout(G, seed=0)\n",
    "        nx.draw_networkx_nodes(G, pos, cmap=plt.get_cmap('jet'),\n",
    "                               node_color='b',\n",
    "                               alpha=0.3,\n",
    "                               node_size=500)\n",
    "\n",
    "        nx.draw_networkx_labels(G, pos)\n",
    "        nx.draw_networkx_edges(G, pos,\n",
    "                               edge_color='gray',\n",
    "                               # edge_cmap=plt.cm.Blues,\n",
    "                               # edge_cmap=plt.get_cmap(),\n",
    "                               alpha=0.8,\n",
    "                               width=0.2,\n",
    "                               # arrows=True,\n",
    "                               )\n",
    "        img = plt.savefig('t.png')\n",
    "        # (640, 4, 480)\n",
    "        img = open_image('t.png')\n",
    "\n",
    "        plt.close()\n",
    "        return img\n",
    "\n",
    "    def show_xys(self, xs, ys, figsize: Tuple[int, int] = (9, 10), **kwargs):\n",
    "        \"Show the `xs` and `ys` on a figure of `figsize`. `kwargs` are passed to the show method.\"\n",
    "        rows = int(math.sqrt(len(xs)))\n",
    "        fig, axs = plt.subplots(rows, rows, figsize=figsize)\n",
    "        for i, ax in enumerate(axs.flatten() if rows > 1 else [axs]):\n",
    "            xs[i].show(ax=ax, y=ys[i], **kwargs)\n",
    "        plt.tight_layout()\n",
    "\n",
    "    def show_xyzs(self, xs, ys, zs, figsize: Tuple[int, int] = None, **kwargs):\n",
    "        \"\"\"Show `xs` (inputs), `ys` (targets) and `zs` (predictions) on a figure of `figsize`.\n",
    "        `kwargs` are passed to the show method.\"\"\"\n",
    "        figsize = ifnone(figsize, (6, 3 * len(xs)))\n",
    "        fig, axs = plt.subplots(len(xs), 2, figsize=figsize)\n",
    "        fig.suptitle('Ground truth / Predictions', weight='bold', size=14)\n",
    "        for i, (x, y, z) in enumerate(zip(xs, ys, zs)):\n",
    "            x.show(ax=axs[i, 0], y=y, **kwargs)\n",
    "            x.show(ax=axs[i, 1], y=z, **kwargs)\n",
    "            \n",
    "    def split_by_rand_pct(self, valid_pct:float=0.2, seed:int=None)->'ItemLists':\n",
    "        \"Split the items randomly by putting `valid_pct` in the validation set, optional `seed` can be passed.\"\n",
    "        if valid_pct==0.: return self.split_none()\n",
    "        if seed is not None: np.random.seed(seed)\n",
    "        rand_idx = torch.tensor(np.random.permutation(range_of(self))).long()\n",
    "        cut = int(valid_pct * len(self))\n",
    "        assert isinstance(rand_idx, torch.Tensor)\n",
    "        return self.split_by_idx(rand_idx[:cut])\n",
    "\n",
    "    def split_by_idx(self, valid_idx:Collection[int])->'ItemLists':\n",
    "        \"Split the data according to the indexes in `valid_idx`.\"\n",
    "        #train_idx = [i for i in range_of(self.items) if i not in valid_idx]\n",
    "        train_idx = torch.tensor(np.setdiff1d(arange_of(self.items), valid_idx)).long()\n",
    "        return self.split_by_idxs(train_idx, valid_idx)\n",
    "# class GraphDataBunch(DataBunch):\n",
    "class GraphLearner(Learner):\n",
    "    \n",
    "    def show_results(self, ds_type=DatasetType.Valid, rows:int=5, **kwargs):\n",
    "        \"Show `rows` result of predictions on `ds_type` dataset.\"\n",
    "        #TODO: get read of has_arg x and split_kwargs_by_func if possible\n",
    "        #TODO: simplify this and refactor with pred_batch(...reconstruct=True)\n",
    "        n_items = rows ** 2 if self.data.train_ds.x._square_show_res else rows\n",
    "        if self.dl(ds_type).batch_size < n_items: n_items = self.dl(ds_type).batch_size\n",
    "        ds = self.dl(ds_type).dataset\n",
    "        self.callbacks.append(RecordOnCPU())\n",
    "        preds = self.pred_batch(ds_type)\n",
    "        *self.callbacks,rec_cpu = self.callbacks\n",
    "        x,y = rec_cpu.input,rec_cpu.target\n",
    "        norm = getattr(self.data,'norm',False)\n",
    "        if norm:\n",
    "            x = self.data.denorm(x)\n",
    "            if norm.keywords.get('do_y',False):\n",
    "                y     = self.data.denorm(y, do_x=True)\n",
    "                preds = self.data.denorm(preds, do_x=True)\n",
    "        analyze_kwargs,kwargs = split_kwargs_by_func(kwargs, ds.y.analyze_pred)\n",
    "        x = x.to_data_list()\n",
    "        preds = [ds.y.analyze_pred(grab_idx(preds, i), **analyze_kwargs) for i in range(n_items)]\n",
    "        xs = [ds.x.reconstruct(x[i]) for i in range(n_items)]\n",
    "        if has_arg(ds.y.reconstruct, 'x'):\n",
    "            ys = [ds.y.reconstruct(grab_idx(y, i), x=x) for i,x in enumerate(xs)]\n",
    "            zs = [ds.y.reconstruct(z, x=x) for z,x in zip(preds,xs)]\n",
    "        else :\n",
    "            ys = [ds.y.reconstruct(grab_idx(y, i)) for i in range(n_items)]\n",
    "            zs = [ds.y.reconstruct(z) for z in preds]\n",
    "        ds.x.show_xyzs(xs, ys, zs, **kwargs)"
   ]
  },
  {
   "cell_type": "code",
   "execution_count": 111,
   "metadata": {},
   "outputs": [],
   "source": [
    "\"\"\"\n",
    "@Time    :2019/12/22 12:04\n",
    "@Author  : 梁家熙\n",
    "@Email:  :11849322@mail.sustech.edu.cn\n",
    "\"\"\"\n",
    "import json\n",
    "\n",
    "from fastai.basic_train import Learner\n",
    "from tqdm import tqdm\n",
    "import random\n",
    "from pprint import pprint\n",
    "import os\n",
    "import collections\n",
    "from typing import List, Dict, Tuple\n",
    "import logging\n",
    "import torch\n",
    "import os.path as osp\n",
    "from fastai.data_block import PreProcessors\n",
    "from torch_geometric.data import Data\n",
    "from tqdm import tqdm\n",
    "import random\n",
    "from pprint import pprint\n",
    "import os\n",
    "import collections\n",
    "from typing import List, Dict, Tuple\n",
    "import logging\n",
    "from fastai import *\n",
    "from fastai.basic_data import *\n",
    "from fastai.torch_core import *\n",
    "from fastai.data_block import *\n",
    "import torch_geometric\n",
    "import torch\n",
    "\n",
    "from torch_geometric.datasets import TUDataset\n",
    "from torch_geometric.utils import degree\n",
    "import torch_geometric.transforms as T\n",
    "import urllib\n",
    "logger = logging.getLogger(__name__)\n",
    "logging.basicConfig(level=logging.INFO, format='%(asctime)s - %(name)s - %(levelname)s - %(message)s')\n",
    "\n",
    "class NormalizedDegree(object):\n",
    "    def __init__(self, mean, std):\n",
    "        self.mean = mean\n",
    "        self.std = std\n",
    "\n",
    "    def __call__(self, data):\n",
    "        deg = degree(data.edge_index[0], dtype=torch.float)\n",
    "        deg = (deg - self.mean) / self.std\n",
    "        data.x = deg.view(-1, 1)\n",
    "        return data\n",
    "\n",
    "def get_dataset(name, myown = False, sparse=True):\n",
    "\n",
    "    # 满足TUDataset接口的数据\n",
    "    dataset = TUDataset('./', name)\n",
    "\n",
    "\n",
    "    assert dataset is not None and len(dataset) != 0\n",
    "    # 边属性 为NOne\n",
    "    dataset.data.edge_attr = None\n",
    "\n",
    "    # x属性是什么\n",
    "    if dataset.data.x is None:\n",
    "        max_degree = 0\n",
    "        degs = []\n",
    "        for data in dataset:\n",
    "            # 列表添加\n",
    "            degs += [degree(data.edge_index[0], dtype=torch.long)]\n",
    "            max_degree = max(max_degree, degs[-1].max().item())\n",
    "\n",
    "        # 最大度小于 1000 时\n",
    "        if max_degree < 1000:\n",
    "            # 转换成onehot形式\n",
    "            dataset.transform = T.OneHotDegree(max_degree)\n",
    "        else:\n",
    "            deg = torch.cat(degs, dim=0).to(torch.float)\n",
    "            mean, std = deg.mean().item(), deg.std().item()\n",
    "            dataset.transform = NormalizedDegree(mean, std) # 标准化\n",
    "\n",
    "\n",
    "    # 如果是 []对的形式,则转换成 adj的形式\n",
    "    if not sparse:\n",
    "        num_nodes = max_num_nodes = 0\n",
    "        for data in dataset:\n",
    "            num_nodes += data.num_nodes\n",
    "            max_num_nodes = max(data.num_nodes, max_num_nodes)\n",
    "\n",
    "        # Filter out a few really large graphs in order to apply DiffPool.\n",
    "        if name == 'REDDIT-BINARY':\n",
    "            num_nodes = min(int(num_nodes / len(dataset) * 1.5), max_num_nodes)\n",
    "        else:\n",
    "            num_nodes = min(int(num_nodes / len(dataset) * 5), max_num_nodes) # 设置成了 28, 因为 max_num_nodes = 28\n",
    "\n",
    "        indices = []\n",
    "        for i, data in enumerate(dataset):\n",
    "            # 找到那些数量小于 num_nodes的 图(存储index)\n",
    "            if data.num_nodes <= num_nodes:\n",
    "                indices.append(i)\n",
    "        dataset = dataset[torch.tensor(indices)]\n",
    "\n",
    "        if dataset.transform is None:\n",
    "            dataset.transform = T.ToDense(num_nodes) # 将数据设置为dense 模式 这个变换很好玩,要记住.\n",
    "        else:\n",
    "            dataset.transform = T.Compose(\n",
    "                [dataset.transform, T.ToDense(num_nodes)])\n",
    "\n",
    "    return dataset\n",
    "\n",
    "\n",
    "\n",
    "import torch\n",
    "import torch.nn.functional as F\n",
    "from torch.nn import Linear\n",
    "from torch_geometric.nn import GCNConv, global_mean_pool, JumpingKnowledge\n",
    "\n",
    "\n",
    "class GCN(torch.nn.Module):\n",
    "    def __init__(self, dataset, num_layers, hidden):\n",
    "        super(GCN, self).__init__()\n",
    "        self.conv1 = GCNConv(dataset.num_features, hidden)\n",
    "        self.convs = torch.nn.ModuleList()\n",
    "        for i in range(num_layers - 1):\n",
    "            self.convs.append(GCNConv(hidden, hidden))\n",
    "        self.lin1 = Linear(hidden, hidden)\n",
    "        self.lin2 = Linear(hidden, dataset.num_classes)\n",
    "\n",
    "    def reset_parameters(self):\n",
    "        self.conv1.reset_parameters()\n",
    "        for conv in self.convs:\n",
    "            conv.reset_parameters()\n",
    "        self.lin1.reset_parameters()\n",
    "        self.lin2.reset_parameters()\n",
    "\n",
    "    def forward(self, data):\n",
    "\n",
    "        x, edge_index, batch = data.x, data.edge_index, data.batch\n",
    "        x = F.relu(self.conv1(x, edge_index))\n",
    "        for conv in self.convs:\n",
    "            x = F.relu(conv(x, edge_index))\n",
    "        x = global_mean_pool(x, batch)\n",
    "        x = F.relu(self.lin1(x))\n",
    "        x = F.dropout(x, p=0.5, training=self.training)\n",
    "        x = self.lin2(x)\n",
    "        return F.log_softmax(x, dim=-1)"
   ]
  },
  {
   "cell_type": "code",
   "execution_count": 112,
   "metadata": {},
   "outputs": [],
   "source": [
    "dataset = get_dataset('MUTAG')\n",
    "\n",
    "data = GraphList(dataset)"
   ]
  },
  {
   "cell_type": "code",
   "execution_count": 113,
   "metadata": {},
   "outputs": [],
   "source": [
    "data = data.split_by_rand_pct(0.3)\n",
    "def func(x):\n",
    "    return x.y.item()\n",
    "\n",
    "data = data.label_from_func(func)\n",
    "def fun(data_list):\n",
    "    a, b = zip(*data_list)\n",
    "    a = MyBatch.from_data_list(\n",
    "            a, [])\n",
    "    a.__class__ = MyBatch\n",
    "    return a, torch.tensor([w.data for w in b]).long()\n",
    "data = data.databunch(collate_fn=lambda data_list: fun(data_list))"
   ]
  },
  {
   "cell_type": "code",
   "execution_count": 114,
   "metadata": {},
   "outputs": [
    {
     "data": {
      "text/html": [
       "<table border=\"1\" class=\"dataframe\">\n",
       "  <thead>\n",
       "    <tr style=\"text-align: left;\">\n",
       "      <th>epoch</th>\n",
       "      <th>train_loss</th>\n",
       "      <th>valid_loss</th>\n",
       "      <th>time</th>\n",
       "    </tr>\n",
       "  </thead>\n",
       "  <tbody>\n",
       "    <tr>\n",
       "      <td>0</td>\n",
       "      <td>0.700809</td>\n",
       "      <td>0.693907</td>\n",
       "      <td>00:00</td>\n",
       "    </tr>\n",
       "    <tr>\n",
       "      <td>1</td>\n",
       "      <td>0.696551</td>\n",
       "      <td>0.691743</td>\n",
       "      <td>00:00</td>\n",
       "    </tr>\n",
       "    <tr>\n",
       "      <td>2</td>\n",
       "      <td>0.694740</td>\n",
       "      <td>0.690098</td>\n",
       "      <td>00:00</td>\n",
       "    </tr>\n",
       "    <tr>\n",
       "      <td>3</td>\n",
       "      <td>0.687743</td>\n",
       "      <td>0.688591</td>\n",
       "      <td>00:00</td>\n",
       "    </tr>\n",
       "    <tr>\n",
       "      <td>4</td>\n",
       "      <td>0.684635</td>\n",
       "      <td>0.687515</td>\n",
       "      <td>00:00</td>\n",
       "    </tr>\n",
       "    <tr>\n",
       "      <td>5</td>\n",
       "      <td>0.682204</td>\n",
       "      <td>0.686536</td>\n",
       "      <td>00:00</td>\n",
       "    </tr>\n",
       "    <tr>\n",
       "      <td>6</td>\n",
       "      <td>0.680928</td>\n",
       "      <td>0.685718</td>\n",
       "      <td>00:00</td>\n",
       "    </tr>\n",
       "    <tr>\n",
       "      <td>7</td>\n",
       "      <td>0.677629</td>\n",
       "      <td>0.685097</td>\n",
       "      <td>00:00</td>\n",
       "    </tr>\n",
       "    <tr>\n",
       "      <td>8</td>\n",
       "      <td>0.674427</td>\n",
       "      <td>0.684589</td>\n",
       "      <td>00:00</td>\n",
       "    </tr>\n",
       "    <tr>\n",
       "      <td>9</td>\n",
       "      <td>0.671973</td>\n",
       "      <td>0.684248</td>\n",
       "      <td>00:00</td>\n",
       "    </tr>\n",
       "  </tbody>\n",
       "</table>"
      ],
      "text/plain": [
       "<IPython.core.display.HTML object>"
      ]
     },
     "metadata": {},
     "output_type": "display_data"
    }
   ],
   "source": [
    "model = GCN(dataset, 1, 16)\n",
    "learner = GraphLearner(data, model)\n",
    "learner.fit(10)"
   ]
  },
  {
   "cell_type": "code",
   "execution_count": 115,
   "metadata": {},
   "outputs": [
    {
     "data": {
      "image/png": "[encoded data removed]",
      "text/plain": [
       "<Figure size 648x720 with 4 Axes>"
      ]
     },
     "metadata": {
      "needs_background": "light"
     },
     "output_type": "display_data"
    }
   ],
   "source": [
    "data.show_batch()"
   ]
  },
  {
   "cell_type": "code",
   "execution_count": 116,
   "metadata": {},
   "outputs": [
    {
     "data": {
      "image/png": "[encoded data removed]",
      "text/plain": [
       "<Figure size 432x2160 with 20 Axes>"
      ]
     },
     "metadata": {
      "needs_background": "light"
     },
     "output_type": "display_data"
    }
   ],
   "source": [
    "learner.show_results(ds_type=DatasetType.Train, rows = 10)"
   ]
  },
  {
   "cell_type": "code",
   "execution_count": 117,
   "metadata": {},
   "outputs": [
    {
     "data": {
      "text/html": [],
      "text/plain": [
       "<IPython.core.display.HTML object>"
      ]
     },
     "metadata": {},
     "output_type": "display_data"
    }
   ],
   "source": [
    "from fastai.train import Interpretation\n",
    "a = Interpretation.from_learner(learner,DatasetType.Valid)"
   ]
  },
  {
   "cell_type": "code",
   "execution_count": 118,
   "metadata": {},
   "outputs": [
    {
     "data": {
      "text/plain": [
       "torch.return_types.topk(\n",
       "values=tensor([0.8261, 0.8253, 0.8253, 0.8252, 0.8252, 0.8252, 0.8219, 0.8204, 0.8199,\n",
       "        0.8187, 0.8184, 0.8183, 0.8177, 0.8176, 0.8176, 0.8167, 0.8159, 0.8153,\n",
       "        0.8140, 0.8134, 0.8125, 0.8120, 0.8106, 0.8098, 0.8085, 0.5907, 0.5837,\n",
       "        0.5831, 0.5830, 0.5811, 0.5811, 0.5802, 0.5784, 0.5783, 0.5780, 0.5766,\n",
       "        0.5764, 0.5764, 0.5757, 0.5754, 0.5753, 0.5745, 0.5740, 0.5740, 0.5732,\n",
       "        0.5732, 0.5732, 0.5731, 0.5731, 0.5731, 0.5719, 0.5719, 0.5719, 0.5719,\n",
       "        0.5719, 0.5719]),\n",
       "indices=tensor([41, 20, 25, 49, 19, 21, 48, 11, 47, 31, 28, 32, 35, 23, 30, 53, 14, 15,\n",
       "        42, 54, 33, 18, 10,  9, 22, 46,  5, 55, 34,  1, 24,  3, 45, 26, 13,  4,\n",
       "        17, 39, 27,  6,  8,  7, 12, 50,  0, 43, 52, 29, 51, 38, 36, 44, 37, 40,\n",
       "         2, 16]))"
      ]
     },
     "execution_count": 118,
     "metadata": {},
     "output_type": "execute_result"
    }
   ],
   "source": [
    "a.top_losses()"
   ]
  },
  {
   "cell_type": "code",
   "execution_count": null,
   "metadata": {},
   "outputs": [],
   "source": []
  }
 ],
 "metadata": {
  "kernelspec": {
   "display_name": "liangjiaxi",
   "language": "python",
   "name": "liangjiaxi"
  },
  "language_info": {
   "codemirror_mode": {
    "name": "ipython",
    "version": 3
   },
   "file_extension": ".py",
   "mimetype": "text/x-python",
   "name": "python",
   "nbconvert_exporter": "python",
   "pygments_lexer": "ipython3",
   "version": "3.6.9"
  }
 },
 "nbformat": 4,
 "nbformat_minor": 4
}
